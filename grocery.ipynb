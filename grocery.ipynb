{
  "nbformat": 4,
  "nbformat_minor": 0,
  "metadata": {
    "colab": {
      "provenance": [],
      "authorship_tag": "ABX9TyPgufi3OeQa8cJ1uuUAg37u",
      "include_colab_link": true
    },
    "kernelspec": {
      "name": "python3",
      "display_name": "Python 3"
    },
    "language_info": {
      "name": "python"
    }
  },
  "cells": [
    {
      "cell_type": "markdown",
      "metadata": {
        "id": "view-in-github",
        "colab_type": "text"
      },
      "source": [
        "<a href=\"https://colab.research.google.com/github/PrishaJagtap/blockchain/blob/main/grocery.ipynb\" target=\"_parent\"><img src=\"https://colab.research.google.com/assets/colab-badge.svg\" alt=\"Open In Colab\"/></a>"
      ]
    },
    {
      "cell_type": "code",
      "execution_count": 2,
      "metadata": {
        "colab": {
          "base_uri": "https://localhost:8080/"
        },
        "id": "iqesDBURY8Ad",
        "outputId": "6441a14f-d060-4514-a693-bd805b204df8"
      },
      "outputs": [
        {
          "output_type": "stream",
          "name": "stdout",
          "text": [
            "True\n"
          ]
        }
      ],
      "source": [
        "import hashlib\n",
        "import datetime\n",
        "\n",
        "class Block:\n",
        "    def __init__(self, timestamp, data, previous_hash):\n",
        "        self.timestamp = timestamp\n",
        "        self.data = data\n",
        "        self.previous_hash = previous_hash\n",
        "        self.hash = self.calculate_hash()\n",
        "\n",
        "    def calculate_hash(self):\n",
        "        sha = hashlib.sha256()\n",
        "        sha.update(str(self.timestamp).encode('utf-8') +\n",
        "                   str(self.data).encode('utf-8') +\n",
        "                   str(self.previous_hash).encode('utf-8'))\n",
        "        return sha.hexdigest()\n",
        "\n",
        "class Blockchain:\n",
        "    def __init__(self):\n",
        "        self.chain = [self.create_genesis_block()]\n",
        "\n",
        "    def create_genesis_block(self):\n",
        "        return Block(datetime.datetime.now(), \"Genesis Block\", \"0\")\n",
        "\n",
        "    def add_block(self, data):\n",
        "        previous_block = self.chain[-1]\n",
        "        new_block = Block(datetime.datetime.now(), data, previous_block.hash)\n",
        "        self.chain.append(new_block)\n",
        "\n",
        "    def is_valid(self):\n",
        "        for i in range(1, len(self.chain)):\n",
        "            current_block = self.chain[i]\n",
        "            previous_block = self.chain[i-1]\n",
        "            if current_block.hash != current_block.calculate_hash():\n",
        "                return False\n",
        "            if current_block.previous_hash != previous_block.hash:\n",
        "                return False\n",
        "        return True\n",
        "\n",
        "# Example usage:\n",
        "grocery_blockchain = Blockchain()\n",
        "grocery_blockchain.add_block(\"Milk: 1 gallon, Eggs: 1 dozen\")\n",
        "grocery_blockchain.add_block(\"Bread: 1 loaf, Cheese: 1 pound\")\n",
        "\n",
        "# Verify the blockchain\n",
        "print(grocery_blockchain.is_valid()) # Output: True"
      ]
    }
  ]
}